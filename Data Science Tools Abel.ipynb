{
 "cells": [
  {
   "cell_type": "markdown",
   "id": "00612327-a1d6-4f4e-b307-92041cdd3f2a",
   "metadata": {},
   "source": [
    "# Data Science Tools and Techniques"
   ]
  },
  {
   "cell_type": "markdown",
   "id": "2e9b8939-0a9a-47f7-b54c-e75e3a0c4c09",
   "metadata": {},
   "source": [
    "## Introduction\n",
    "This notebook provides an overview of various tools, languages, and libraries used in Data Science. It also includes some basic arithmetic operations and conversions.\n"
   ]
  },
  {
   "cell_type": "markdown",
   "id": "4d95c45c-3afa-446b-8364-9214134e7787",
   "metadata": {},
   "source": [
    "## Data Science Languages\n",
    "- Python\n",
    "- R\n",
    "- SQL\n",
    "- Julia\n",
    "- Java\n"
   ]
  },
  {
   "cell_type": "markdown",
   "id": "bfc13797-28f1-4224-83f1-514c420ce931",
   "metadata": {},
   "source": [
    "## Data Science Tools\n",
    "| Tool           | Description                                 |\n",
    "|----------------|---------------------------------------------|\n",
    "| Jupyter        | Interactive computing environment          |\n",
    "| RStudio        | Integrated development environment for R    |\n",
    "| Apache Spark   | Cluster computing framework                |\n",
    "| Tableau        | Data visualization tool                    |\n",
    "| TensorFlow     | Machine learning library                   |\n"
   ]
  },
  {
   "cell_type": "markdown",
   "id": "1a1585f7-0abf-4a55-92e9-cfad1e73a219",
   "metadata": {},
   "source": [
    "## Arithmetic Expression Examples\n",
    "Here are some examples of arithmetic expressions in Python.\n"
   ]
  },
  {
   "cell_type": "code",
   "execution_count": 6,
   "id": "98d2079e-5d61-4de2-8945-182945eabda8",
   "metadata": {},
   "outputs": [
    {
     "data": {
      "text/plain": [
       "24"
      ]
     },
     "execution_count": 6,
     "metadata": {},
     "output_type": "execute_result"
    }
   ],
   "source": [
    "# Multiplication and addition example\n",
    "a = 5\n",
    "b = 4\n",
    "result = (a * b) + b\n",
    "result\n"
   ]
  },
  {
   "cell_type": "code",
   "execution_count": 8,
   "id": "a4499797-0c08-4345-afa4-a317782fa11c",
   "metadata": {},
   "outputs": [
    {
     "data": {
      "text/plain": [
       "2.0"
      ]
     },
     "execution_count": 8,
     "metadata": {},
     "output_type": "execute_result"
    }
   ],
   "source": [
    "# Conversion from minutes to hours\n",
    "minutes = 120\n",
    "hours = minutes / 60\n",
    "hours\n"
   ]
  },
  {
   "cell_type": "markdown",
   "id": "2fbe1803-106c-42a2-8f19-f3db0c55b855",
   "metadata": {},
   "source": [
    "## Objectives\n",
    "- Learn about different Data Science languages\n",
    "- Understand commonly used Data Science libraries\n",
    "- Get familiar with popular Data Science tools\n",
    "- Perform basic arithmetic operations\n",
    "- Convert time units from minutes to hours\n"
   ]
  },
  {
   "cell_type": "markdown",
   "id": "7ef7a0d2-9571-4558-9665-8a449b3187a5",
   "metadata": {},
   "source": [
    "## Author\n",
    "Abel Tesfaye Sisaye\n"
   ]
  },
  {
   "cell_type": "code",
   "execution_count": null,
   "id": "b1e00cf1-3e4a-41f8-92f0-1fd06cb99bb9",
   "metadata": {},
   "outputs": [],
   "source": []
  }
 ],
 "metadata": {
  "kernelspec": {
   "display_name": "Python 3 (ipykernel)",
   "language": "python",
   "name": "python3"
  },
  "language_info": {
   "codemirror_mode": {
    "name": "ipython",
    "version": 3
   },
   "file_extension": ".py",
   "mimetype": "text/x-python",
   "name": "python",
   "nbconvert_exporter": "python",
   "pygments_lexer": "ipython3",
   "version": "3.11.5"
  }
 },
 "nbformat": 4,
 "nbformat_minor": 5
}
